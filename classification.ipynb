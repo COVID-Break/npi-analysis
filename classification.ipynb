{
 "cells": [
  {
   "cell_type": "code",
   "execution_count": 1,
   "metadata": {},
   "outputs": [],
   "source": [
    "%load_ext dotenv\n",
    "%dotenv"
   ]
  },
  {
   "cell_type": "code",
   "execution_count": 2,
   "metadata": {},
   "outputs": [],
   "source": [
    "# get raw data from GCP bucket\n",
    "import sys\n",
    "import numpy as np\n",
    "np.set_printoptions(threshold=1000)\n",
    "\n",
    "import pandas as pd\n",
    "from nltk.corpus import stopwords\n",
    "\n",
    "from sklearn.feature_extraction.text import TfidfVectorizer\n",
    "from sklearn.decomposition import PCA\n",
    "from sklearn.preprocessing import StandardScaler\n",
    "from sklearn.cluster import KMeans\n",
    "\n",
    "from PIL import Image\n",
    "from wordcloud import WordCloud, STOPWORDS, ImageColorGenerator\n",
    "\n",
    "import matplotlib.pyplot as plt\n",
    "%matplotlib inline\n",
    "\n",
    "import os\n",
    "import glob\n",
    "import json\n",
    "import tempfile\n",
    "from datetime import datetime\n",
    "\n",
    "from google.cloud import storage\n",
    "\n",
    "# pd.set_option('display.max_rows', 500)\n",
    "# pd.set_option('display.max_columns', 50)\n",
    "# pd.set_option('display.width', 100)\n",
    "# pd.set_option('display.max_colwidth', -1)\n",
    "\n",
    "# The bucket name for the location of the data is in the .env file\n",
    "BUCKET_NAME = os.environ['BUCKET_NAME']\n",
    "DATA_FILE = 'labeled_npi.csv'\n",
    "df_pkl = pd.read_pickle(\"data.pkl\")"
   ]
  },
  {
   "cell_type": "code",
   "execution_count": 3,
   "metadata": {},
   "outputs": [],
   "source": [
    "class Preprocesser:\n",
    "    def __init__(self, df):\n",
    "        self.df_labels = pd.read_csv(DATA_FILE)\n",
    "        self.keywords = ['incident command system',\n",
    "                         'emergency operations',\n",
    "                         'joint information center',\n",
    "                         'social distancing',\n",
    "                         'childcare closers',\n",
    "                         'travel advisory',\n",
    "                         'travel warning',\n",
    "                         'isolation',\n",
    "                         'quarantine',\n",
    "                         'mass gathering cancellations',\n",
    "                         'school closures',\n",
    "                         'facility closures',\n",
    "                         'evacuation',\n",
    "                         'relocation',\n",
    "                         'restricting travel',\n",
    "                         'travel ban',\n",
    "                         'patient cohort',\n",
    "                         'npi']\n",
    "        self.occurances_minimum = 1\n",
    "        self.df_full = df.copy()\n",
    "        print(self.df_full.shape)\n",
    "        self.key_slice()\n",
    "        print(self.df_full.shape)\n",
    "        self.npi_slice()\n",
    "        print(self.df_full.shape)\n",
    "        self.df_full = self.df_full.merge(self.df_labels, on=\"title\", how=\"inner\")\n",
    "        self.df_full = self.df_full.loc[self.df_full.isNPI.notna()]\n",
    "            \n",
    "    def key_slice(self):\n",
    "        self.df_full = self.df_full[self.df_full['abstract'].str.contains('|'.join(self.keywords), na=False, regex=True)].reset_index(drop=True)\n",
    "        \n",
    "    def npi_slice(self):\n",
    "        def get_count(row):\n",
    "            return sum([row['abstract'].count(keyword) for keyword in self.keywords])\n",
    "        self.df_full = self.df_full[self.df_full.apply(get_count, axis=1) >= self.occurances_minimum]\n",
    "        \n",
    "    def remove_stopwords(self,columns):\n",
    "        stop = stopwords.words('english')\n",
    "        for col in columns:\n",
    "            self.df_full[col] = self.df_full[col].astype(str).apply(lambda x: ' '.join([word for word in x.split() if word not in (stop)]))\n",
    "\n",
    "    def to_tfidf(self,columns):\n",
    "        for col in columns:\n",
    "            tfidfv = TfidfVectorizer()\n",
    "            self.df_full[col + '_tfidf'] = list(tfidfv.fit_transform(self.df_full[col]).toarray())\n",
    "            \n",
    "    def remove_punc(self, columns):\n",
    "        for col in columns:\n",
    "            self.df_full[col] = self.df_full[col].str.replace('[^a-zA-Z\\s]+','')\n",
    "        \n",
    "def display_wordcloud(text):\n",
    "    wordcloud = WordCloud(max_font_size=50, max_words=100, background_color='white').generate(text)\n",
    "    plt.figure()\n",
    "    plt.imshow(wordcloud, interpolation='bilinear')\n",
    "    plt.axis(\"off\")\n",
    "    plt.show()\n",
    "\n"
   ]
  },
  {
   "cell_type": "code",
   "execution_count": 4,
   "metadata": {},
   "outputs": [],
   "source": [
    "def pca_apply(df, columns, n_comp):\n",
    "    new_df = df.copy()\n",
    "    for col in columns:\n",
    "        pca = PCA(n_components=n_comp)\n",
    "        new_df[col+'_pca'] = list(pca.fit_transform(np.stack(df[col].to_numpy())))\n",
    "    return new_df\n",
    "\n",
    "def apply_scaler(df, columns):\n",
    "    new_df = df.copy()\n",
    "    for col in columns:\n",
    "        scaler = StandardScaler()\n",
    "        new_df[col + '_scaled'] = list(scaler.fit_transform(np.stack(df[col].to_numpy())))\n",
    "    return new_df\n"
   ]
  },
  {
   "cell_type": "code",
   "execution_count": 5,
   "metadata": {},
   "outputs": [
    {
     "name": "stdout",
     "output_type": "stream",
     "text": [
      "(1612, 6)\n",
      "(1612, 6)\n",
      "(1612, 6)\n"
     ]
    }
   ],
   "source": [
    "data_obj = Preprocesser(df_pkl)"
   ]
  },
  {
   "cell_type": "code",
   "execution_count": 6,
   "metadata": {},
   "outputs": [
    {
     "data": {
      "text/plain": [
       "0.0    420\n",
       "1.0    187\n",
       "Name: isNPI, dtype: int64"
      ]
     },
     "execution_count": 6,
     "metadata": {},
     "output_type": "execute_result"
    }
   ],
   "source": [
    "data_obj.df_full.isNPI.value_counts()"
   ]
  },
  {
   "cell_type": "code",
   "execution_count": 7,
   "metadata": {},
   "outputs": [],
   "source": [
    "data_obj.remove_punc(['body_text','abstract'])\n",
    "data_obj.remove_stopwords(['body_text', 'abstract'])\n",
    "data_obj.to_tfidf(['body_text', 'abstract'])\n",
    "pca_df = pca_apply(data_obj.df_full, ['abstract_tfidf','body_text_tfidf'], 10)\n",
    "scaled_df = apply_scaler(pca_df,['abstract_tfidf_pca','body_text_tfidf_pca'])"
   ]
  },
  {
   "cell_type": "code",
   "execution_count": 8,
   "metadata": {},
   "outputs": [
    {
     "data": {
      "text/plain": [
       "Index(['paper_id', 'title', 'author_list', 'abstract', 'body_text', 'doi',\n",
       "       'Unnamed: 0', 'Unnamed: 0.1', 'isNPI', 'body_text_tfidf',\n",
       "       'abstract_tfidf', 'abstract_tfidf_pca', 'body_text_tfidf_pca',\n",
       "       'abstract_tfidf_pca_scaled', 'body_text_tfidf_pca_scaled'],\n",
       "      dtype='object')"
      ]
     },
     "execution_count": 8,
     "metadata": {},
     "output_type": "execute_result"
    }
   ],
   "source": [
    "scaled_df.columns"
   ]
  },
  {
   "cell_type": "code",
   "execution_count": 9,
   "metadata": {},
   "outputs": [],
   "source": [
    "import xgboost as xgb\n",
    "from sklearn.model_selection import train_test_split"
   ]
  },
  {
   "cell_type": "code",
   "execution_count": 10,
   "metadata": {},
   "outputs": [],
   "source": [
    "X = np.stack(scaled_df[\"body_text_tfidf_pca_scaled\"].to_numpy())\n",
    "y = scaled_df[\"isNPI\"]\n",
    "X_train, X_test, y_train, y_test = train_test_split(X, y, test_size=0.2, random_state=10, stratify=y)\n",
    "\n",
    "dtrain = xgb.DMatrix(X_train, label=y_train)\n",
    "dtest = xgb.DMatrix(X_test, label=y_test)"
   ]
  },
  {
   "cell_type": "code",
   "execution_count": 11,
   "metadata": {},
   "outputs": [
    {
     "data": {
      "text/plain": [
       "485"
      ]
     },
     "execution_count": 11,
     "metadata": {},
     "output_type": "execute_result"
    }
   ],
   "source": [
    "dtrain.num_row()"
   ]
  },
  {
   "cell_type": "code",
   "execution_count": 12,
   "metadata": {},
   "outputs": [
    {
     "data": {
      "text/plain": [
       "122"
      ]
     },
     "execution_count": 12,
     "metadata": {},
     "output_type": "execute_result"
    }
   ],
   "source": [
    "dtest.num_row()"
   ]
  },
  {
   "cell_type": "code",
   "execution_count": 13,
   "metadata": {},
   "outputs": [],
   "source": [
    "from sklearn.metrics import f1_score"
   ]
  },
  {
   "cell_type": "code",
   "execution_count": 14,
   "metadata": {},
   "outputs": [],
   "source": [
    "param = {'max_depth': 2, 'eta': 1, 'objective': 'binary:logistic'}\n",
    "param['eval_metric'] = ['auc']"
   ]
  },
  {
   "cell_type": "code",
   "execution_count": null,
   "metadata": {},
   "outputs": [],
   "source": []
  },
  {
   "cell_type": "code",
   "execution_count": 15,
   "metadata": {},
   "outputs": [],
   "source": [
    "# num_round = 200\n",
    "# evallist = [(dtest, 'eval'), (dtrain, 'train')]\n",
    "# bst = xgb.train(param, dtrain, num_round, evallist)"
   ]
  },
  {
   "cell_type": "code",
   "execution_count": 16,
   "metadata": {},
   "outputs": [
    {
     "data": {
      "text/plain": [
       "XGBClassifier(base_score=0.5, booster='gbtree', colsample_bylevel=1,\n",
       "              colsample_bynode=1, colsample_bytree=0.8, gamma=0, gpu_id=-1,\n",
       "              importance_type='gain', interaction_constraints=None,\n",
       "              learning_rate=0.1, max_delta_step=0, max_depth=6,\n",
       "              min_child_weight=1, missing=nan, monotone_constraints=None,\n",
       "              n_estimators=100, n_jobs=8, nthread=8, num_parallel_tree=1,\n",
       "              objective='binary:logistic', random_state=0, reg_alpha=0,\n",
       "              reg_lambda=1, scale_pos_weight=1, silent=False, subsample=0.8,\n",
       "              tree_method=None, validate_parameters=False, verbosity=None)"
      ]
     },
     "execution_count": 16,
     "metadata": {},
     "output_type": "execute_result"
    }
   ],
   "source": [
    "clf_xgb = xgb.XGBClassifier(max_depth=6, learning_rate=0.1,silent=False, objective='binary:logistic', \\\n",
    "                      booster='gbtree', n_jobs=8, nthread=None, gamma=0, min_child_weight=1, max_delta_step=0, \\\n",
    "                      subsample=0.8, colsample_bytree=0.8, colsample_bylevel=1, reg_alpha=0, reg_lambda=1)\n",
    "\n",
    "clf_xgb.fit(X_train, y_train)"
   ]
  },
  {
   "cell_type": "code",
   "execution_count": null,
   "metadata": {},
   "outputs": [],
   "source": []
  },
  {
   "cell_type": "code",
   "execution_count": 17,
   "metadata": {},
   "outputs": [
    {
     "data": {
      "text/plain": [
       "(0.8348389039445949, 0.8483709273182958, 0.8408899117759877, None)"
      ]
     },
     "execution_count": 17,
     "metadata": {},
     "output_type": "execute_result"
    }
   ],
   "source": [
    "from sklearn.metrics import precision_recall_fscore_support\n",
    "from sklearn.metrics import accuracy_score\n",
    "y_pred = clf_xgb.predict(X_test)\n",
    "precision_recall_fscore_support(y_test, y_pred, average='macro')"
   ]
  },
  {
   "cell_type": "code",
   "execution_count": 18,
   "metadata": {},
   "outputs": [
    {
     "data": {
      "text/plain": [
       "0.860655737704918"
      ]
     },
     "execution_count": 18,
     "metadata": {},
     "output_type": "execute_result"
    }
   ],
   "source": [
    "accuracy_score(y_test, y_pred)"
   ]
  },
  {
   "cell_type": "code",
   "execution_count": 19,
   "metadata": {},
   "outputs": [],
   "source": [
    "core_booster = clf_xgb.get_booster()"
   ]
  },
  {
   "cell_type": "code",
   "execution_count": 20,
   "metadata": {},
   "outputs": [
    {
     "data": {
      "text/plain": [
       "<matplotlib.axes._subplots.AxesSubplot at 0x7ff350a7c390>"
      ]
     },
     "execution_count": 20,
     "metadata": {},
     "output_type": "execute_result"
    },
    {
     "data": {
      "image/png": "[encoded data removed]",
      "text/plain": [
       "<Figure size 432x288 with 1 Axes>"
      ]
     },
     "metadata": {
      "needs_background": "light"
     },
     "output_type": "display_data"
    }
   ],
   "source": [
    "xgb.plot_importance(core_booster)\n"
   ]
  },
  {
   "cell_type": "code",
   "execution_count": 21,
   "metadata": {},
   "outputs": [],
   "source": [
    "from sklearn.metrics import plot_roc_curve"
   ]
  },
  {
   "cell_type": "code",
   "execution_count": 22,
   "metadata": {},
   "outputs": [
    {
     "data": {
      "text/plain": [
       "<sklearn.metrics._plot.roc_curve.RocCurveDisplay at 0x7ff3589f9e48>"
      ]
     },
     "execution_count": 22,
     "metadata": {},
     "output_type": "execute_result"
    },
    {
     "data": {
      "image/png": "[encoded data removed]",
      "text/plain": [
       "<Figure size 432x288 with 1 Axes>"
      ]
     },
     "metadata": {
      "needs_background": "light"
     },
     "output_type": "display_data"
    }
   ],
   "source": [
    "plot_roc_curve(clf_xgb, X_test, y_test)"
   ]
  },
  {
   "cell_type": "code",
   "execution_count": null,
   "metadata": {},
   "outputs": [],
   "source": []
  },
  {
   "cell_type": "code",
   "execution_count": null,
   "metadata": {},
   "outputs": [],
   "source": []
  }
 ],
 "metadata": {
  "kernelspec": {
   "display_name": "Python 3",
   "language": "python",
   "name": "python3"
  },
  "language_info": {
   "codemirror_mode": {
    "name": "ipython",
    "version": 3
   },
   "file_extension": ".py",
   "mimetype": "text/x-python",
   "name": "python",
   "nbconvert_exporter": "python",
   "pygments_lexer": "ipython3",
   "version": "3.6.8"
  }
 },
 "nbformat": 4,
 "nbformat_minor": 2
}
