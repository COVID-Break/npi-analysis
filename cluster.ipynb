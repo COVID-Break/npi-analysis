{
 "cells": [
  {
   "cell_type": "code",
   "execution_count": 190,
   "metadata": {},
   "outputs": [
    {
     "name": "stdout",
     "output_type": "stream",
     "text": [
      "The dotenv extension is already loaded. To reload it, use:\n",
      "  %reload_ext dotenv\n"
     ]
    }
   ],
   "source": [
    "%load_ext dotenv\n",
    "%dotenv"
   ]
  },
  {
   "cell_type": "code",
   "execution_count": 219,
   "metadata": {},
   "outputs": [],
   "source": [
    "# get raw data from GCP bucket\n",
    "import sys\n",
    "import numpy as np\n",
    "np.set_printoptions(threshold=1000)\n",
    "\n",
    "import pandas as pd\n",
    "from nltk.corpus import stopwords\n",
    "\n",
    "from sklearn.feature_extraction.text import TfidfVectorizer\n",
    "from sklearn.decomposition import PCA\n",
    "from sklearn.preprocessing import StandardScaler\n",
    "from sklearn.cluster import KMeans\n",
    "\n",
    "from PIL import Image\n",
    "from wordcloud import WordCloud, STOPWORDS, ImageColorGenerator\n",
    "\n",
    "import matplotlib.pyplot as plt\n",
    "%matplotlib inline\n",
    "\n",
    "import os\n",
    "import glob\n",
    "import json\n",
    "import tempfile\n",
    "from datetime import datetime\n",
    "\n",
    "from google.cloud import storage\n"
   ]
  },
  {
   "cell_type": "code",
   "execution_count": 192,
   "metadata": {},
   "outputs": [],
   "source": [
    "# The bucket name for the location of the data is in the .env file\n",
    "BUCKET_NAME = os.environ['BUCKET_NAME']\n",
    "JSON_FILE = 'all_json_new.pkl'"
   ]
  },
  {
   "cell_type": "code",
   "execution_count": 193,
   "metadata": {},
   "outputs": [],
   "source": [
    "class Preprocesser:\n",
    "    def __init__(self):\n",
    "        storage_client = storage.Client()\n",
    "        temp = tempfile.TemporaryFile()\n",
    "        storage_client.download_blob_to_file(f\"gs://{BUCKET_NAME}/{JSON_FILE}\", temp)\n",
    "        self.df_full = pd.read_pickle(temp, compression=None)\n",
    "        print(self.df_full.shape)\n",
    "        self.key_slice()\n",
    "        print(self.df_full.shape)\n",
    "    \n",
    "    def key_slice(self):\n",
    "        keywords = ['incident command system',\n",
    "            'emergency operations',\n",
    "            'joint information center',\n",
    "            'social distancing',\n",
    "            'childcare closers',\n",
    "            'travel advisory',\n",
    "            'travel warning',\n",
    "            'isolation',\n",
    "            'qarentine',\n",
    "            'mass gathering cancellations',\n",
    "            'school closures',\n",
    "            'facility closures',\n",
    "            'facility closures',\n",
    "            'evacuation',\n",
    "            'relocation',\n",
    "            'restricing travel',\n",
    "            'travel ban',\n",
    "            'patient cohort',\n",
    "            'npi']\n",
    "        self.df_full = self.df_full[self.df_full['body_text'].str.contains('|'.join(keywords), na=False, regex=True)].reset_index()\n",
    "    \n",
    "    def remove_stopwords(self,columns):\n",
    "        stop = stopwords.words('english')\n",
    "        for col in columns:\n",
    "            self.df_full[col] = self.df_full[col].astype(str).apply(lambda x: ' '.join([word for word in x.split() if word not in (stop)]))\n",
    "\n",
    "    def to_tfidf(self,columns):\n",
    "        for col in columns:\n",
    "            tfidfv = TfidfVectorizer()\n",
    "            self.df_full[col + '_tfidf'] = list(tfidfv.fit_transform(self.df_full[col]).toarray())\n",
    "            \n",
    "    def remove_punc(self, columns):\n",
    "        for col in columns:\n",
    "            self.df_full[col] = self.df_full[col].str.replace('[^a-zA-Z\\s]+','')\n",
    "        \n",
    "def display_wordcloud(text):\n",
    "    wordcloud = WordCloud(max_font_size=50, max_words=100, background_color='white').generate(text)\n",
    "    plt.figure()\n",
    "    plt.imshow(wordcloud, interpolation='bilinear')\n",
    "    plt.axis(\"off\")\n",
    "    plt.show()\n",
    "\n"
   ]
  },
  {
   "cell_type": "code",
   "execution_count": 239,
   "metadata": {},
   "outputs": [],
   "source": [
    "def pca_apply(df, columns):\n",
    "    new_df = df.copy()\n",
    "    for col in columns:\n",
    "        pca = PCA(n_components=50)\n",
    "        new_df[col+'_pca'] = list(pca.fit_transform(np.stack(df[col].to_numpy())))\n",
    "    return new_df\n",
    "\n",
    "def apply_scaler(df, columns):\n",
    "    new_df = df.copy()\n",
    "    for col in columns:\n",
    "        scaler = StandardScaler()\n",
    "        new_df[col + '_scaled'] = list(scaler.fit_transform(np.stack(df[col].to_numpy())))\n",
    "    return new_df\n",
    "\n",
    "def cluster(df, columns, clust_nums):\n",
    "    new_df = df.copy()\n",
    "    for col in columns:\n",
    "        kmeans = KMeans(n_clusters = clust_nums)\n",
    "        new_df[col + \"_clusterID\"] = list(kmeans.fit_predict(np.stack(df[col].to_numpy())))\n",
    "    return new_df\n"
   ]
  },
  {
   "cell_type": "code",
   "execution_count": null,
   "metadata": {},
   "outputs": [],
   "source": []
  },
  {
   "cell_type": "code",
   "execution_count": 195,
   "metadata": {},
   "outputs": [
    {
     "name": "stdout",
     "output_type": "stream",
     "text": [
      "(3851, 8)\n",
      "(3851, 9)\n"
     ]
    }
   ],
   "source": [
    "prepr = Preprocesser()"
   ]
  },
  {
   "cell_type": "code",
   "execution_count": 196,
   "metadata": {},
   "outputs": [],
   "source": [
    "prepr.remove_punc(['body_text','abstract'])"
   ]
  },
  {
   "cell_type": "code",
   "execution_count": 197,
   "metadata": {},
   "outputs": [],
   "source": [
    "prepr.remove_stopwords(['body_text', 'abstract'])"
   ]
  },
  {
   "cell_type": "code",
   "execution_count": 198,
   "metadata": {},
   "outputs": [],
   "source": [
    "prepr.to_tfidf(['body_text', 'abstract'])"
   ]
  },
  {
   "cell_type": "code",
   "execution_count": 179,
   "metadata": {},
   "outputs": [],
   "source": []
  },
  {
   "cell_type": "code",
   "execution_count": 241,
   "metadata": {},
   "outputs": [],
   "source": [
    "pca_df = pca_apply(prepr.df_full, ['abstract_tfidf','body_text_tfidf'])"
   ]
  },
  {
   "cell_type": "code",
   "execution_count": 244,
   "metadata": {},
   "outputs": [],
   "source": [
    "scaled_df = apply_scaler(pca_df,['abstract_tfidf_pca','body_text_tfidf_pca'])"
   ]
  },
  {
   "cell_type": "code",
   "execution_count": 245,
   "metadata": {},
   "outputs": [],
   "source": [
    "clustered_df = cluster(scaled_df, ['abstract_tfidf_pca_scaled', 'body_text_tfidf_pca_scaled'], 50)"
   ]
  },
  {
   "cell_type": "code",
   "execution_count": 247,
   "metadata": {},
   "outputs": [
    {
     "data": {
      "text/plain": [
       "21    661\n",
       "47    202\n",
       "18    172\n",
       "12    124\n",
       "39    109\n",
       "15    102\n",
       "38    101\n",
       "48     98\n",
       "1      98\n",
       "36     96\n",
       "41     94\n",
       "0      88\n",
       "17     86\n",
       "43     86\n",
       "42     85\n",
       "49     82\n",
       "8      76\n",
       "5      76\n",
       "23     72\n",
       "3      72\n",
       "24     70\n",
       "46     69\n",
       "11     69\n",
       "4      68\n",
       "2      66\n",
       "37     66\n",
       "20     61\n",
       "28     61\n",
       "32     57\n",
       "44     52\n",
       "45     52\n",
       "30     51\n",
       "14     47\n",
       "22     45\n",
       "35     43\n",
       "13     43\n",
       "31     40\n",
       "27     38\n",
       "34     35\n",
       "19     32\n",
       "26     29\n",
       "40     25\n",
       "10     24\n",
       "25     24\n",
       "16     23\n",
       "7      20\n",
       "6      19\n",
       "29     16\n",
       "9      13\n",
       "33     13\n",
       "Name: body_text_tfidf_pca_scaled_clusterID, dtype: int64"
      ]
     },
     "execution_count": 247,
     "metadata": {},
     "output_type": "execute_result"
    }
   ],
   "source": [
    "clustered_df.body_text_tfidf_pca_scaled_clusterID.value_counts()"
   ]
  },
  {
   "cell_type": "code",
   "execution_count": 253,
   "metadata": {},
   "outputs": [
    {
     "data": {
      "text/plain": [
       "219     revitalization of integrated disease surveilla...\n",
       "241     correspondence to: communicable disease contro...\n",
       "357       incorporating one health into medical education\n",
       "405     uganda public health fellowship program's cont...\n",
       "419     acquired immunity and asymptomatic reservoir i...\n",
       "434     european monitoring systems and data for asses...\n",
       "483     between securitisation and neglect: managing e...\n",
       "539     evaluation of applied public health emergency ...\n",
       "615     the past, present, and future of public health...\n",
       "639                                                      \n",
       "664     building international genomics collaboration ...\n",
       "692     strengthening national disease surveillance an...\n",
       "728     pandemic influenza preparedness and health sys...\n",
       "731     comparing national infectious disease surveill...\n",
       "766     what makes health systems resilient against in...\n",
       "774                                                      \n",
       "848     promoting public health legal preparedness for...\n",
       "852     cybercare 2.0: meeting the challenge of the gl...\n",
       "864     disruptive innovation can prevent the next pan...\n",
       "910     bmc public health designing and conducting tab...\n",
       "916     the politics of disease epidemics: a comparati...\n",
       "951     open access a population health surveillance t...\n",
       "987     china's health assistance to africa: opportuni...\n",
       "1035    tropical medicine and infectious disease the c...\n",
       "1052                                    original research\n",
       "1132    the evidence base of primary research in publi...\n",
       "1160    o p i n i o n genomics and infectious disease:...\n",
       "1219    globalization and health globalization, migrat...\n",
       "1275    general practice and pandemic influenza: a fra...\n",
       "1331    strengthening timely detection and reporting o...\n",
       "                              ...                        \n",
       "3307    structural factors of the middle east respirat...\n",
       "3366    towards evidence-based, gis-driven national sp...\n",
       "3369                   transnational issues in quarantine\n",
       "3389                                                     \n",
       "3399    and the ncid/sars community outreach team 1 em...\n",
       "3408                                                     \n",
       "3415                                                     \n",
       "3436    airport exit and entry screening for ebola -au...\n",
       "3462    sustainable model for public health emergency ...\n",
       "3464                                                     \n",
       "3469    the global polio laboratory network as a platf...\n",
       "3490    to achieve compliance with the revised world h...\n",
       "3494                                                     \n",
       "3496                                                     \n",
       "3500                    the new global health perspective\n",
       "3524    the role of internists during epidemics, outbr...\n",
       "3537    use of revised international health regulation...\n",
       "3548    establishment of cdc global rapid response tea...\n",
       "3580    available from: public health law program, pub...\n",
       "3621                                                     \n",
       "3642               plagues, public health, and politics 1\n",
       "3650    infectious diseases remained… infectious disea...\n",
       "3661    cdc support for global public health emergency...\n",
       "3667    career epidemiology field officer, office of p...\n",
       "3670            quarantine stressing voluntary compliance\n",
       "3680    risk communication in times of crisis pitfalls...\n",
       "3742    zoonotic disease programs for enhancing global...\n",
       "3804                                                     \n",
       "3829    figure. the four regional public health instit...\n",
       "3836           confl ict and emerging infectious diseases\n",
       "Name: title, Length: 124, dtype: object"
      ]
     },
     "execution_count": 253,
     "metadata": {},
     "output_type": "execute_result"
    }
   ],
   "source": [
    "clustered_df[clustered_df.body_text_tfidf_pca_scaled_clusterID == 12].title"
   ]
  },
  {
   "cell_type": "code",
   "execution_count": null,
   "metadata": {},
   "outputs": [],
   "source": []
  },
  {
   "cell_type": "code",
   "execution_count": null,
   "metadata": {},
   "outputs": [],
   "source": []
  }
 ],
 "metadata": {
  "kernelspec": {
   "display_name": "Python 3",
   "language": "python",
   "name": "python3"
  },
  "language_info": {
   "codemirror_mode": {
    "name": "ipython",
    "version": 3
   },
   "file_extension": ".py",
   "mimetype": "text/x-python",
   "name": "python",
   "nbconvert_exporter": "python",
   "pygments_lexer": "ipython3",
   "version": "3.6.8"
  }
 },
 "nbformat": 4,
 "nbformat_minor": 2
}
