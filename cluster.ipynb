{
 "cells": [
  {
   "cell_type": "code",
   "execution_count": 1,
   "metadata": {},
   "outputs": [],
   "source": [
    "%load_ext dotenv\n",
    "%dotenv"
   ]
  },
  {
   "cell_type": "code",
   "execution_count": 2,
   "metadata": {},
   "outputs": [],
   "source": [
    "# get raw data from GCP bucket\n",
    "import sys\n",
    "import numpy as np\n",
    "np.set_printoptions(threshold=1000)\n",
    "\n",
    "import pandas as pd\n",
    "from nltk.corpus import stopwords\n",
    "\n",
    "from sklearn.feature_extraction.text import TfidfVectorizer\n",
    "from sklearn.decomposition import PCA\n",
    "from sklearn.preprocessing import StandardScaler\n",
    "from sklearn.cluster import KMeans\n",
    "\n",
    "from PIL import Image\n",
    "from wordcloud import WordCloud, STOPWORDS, ImageColorGenerator\n",
    "\n",
    "import matplotlib.pyplot as plt\n",
    "%matplotlib inline\n",
    "\n",
    "import os\n",
    "import glob\n",
    "import json\n",
    "import tempfile\n",
    "from datetime import datetime\n",
    "\n",
    "from google.cloud import storage\n"
   ]
  },
  {
   "cell_type": "code",
   "execution_count": 28,
   "metadata": {},
   "outputs": [],
   "source": [
    "pd.set_option('display.max_rows', 500)\n",
    "pd.set_option('display.max_columns', 50)\n",
    "pd.set_option('display.width', 100)\n",
    "pd.set_option('display.max_colwidth', -1)"
   ]
  },
  {
   "cell_type": "code",
   "execution_count": 3,
   "metadata": {},
   "outputs": [],
   "source": [
    "# The bucket name for the location of the data is in the .env file\n",
    "BUCKET_NAME = os.environ['BUCKET_NAME']\n",
    "JSON_FILE = 'all_json_new.pkl'"
   ]
  },
  {
   "cell_type": "code",
   "execution_count": 4,
   "metadata": {},
   "outputs": [],
   "source": [
    "class Preprocesser:\n",
    "    def __init__(self):\n",
    "        storage_client = storage.Client()\n",
    "        temp = tempfile.TemporaryFile()\n",
    "        storage_client.download_blob_to_file(f\"gs://{BUCKET_NAME}/{JSON_FILE}\", temp)\n",
    "        self.df_full = pd.read_pickle(temp, compression=None)\n",
    "        print(self.df_full.shape)\n",
    "        self.key_slice()\n",
    "        print(self.df_full.shape)\n",
    "    \n",
    "    def key_slice(self):\n",
    "        keywords = ['incident command system',\n",
    "            'emergency operations',\n",
    "            'joint information center',\n",
    "            'social distancing',\n",
    "            'childcare closers',\n",
    "            'travel advisory',\n",
    "            'travel warning',\n",
    "            'isolation',\n",
    "            'quarentine',\n",
    "            'mass gathering cancellations',\n",
    "            'school closures',\n",
    "            'facility closures',\n",
    "            'evacuation',\n",
    "            'relocation',\n",
    "            'restricing travel',\n",
    "            'travel ban',\n",
    "            'patient cohort',\n",
    "            'npi']\n",
    "        self.df_full = self.df_full[self.df_full['body_text'].str.contains('|'.join(keywords), na=False, regex=True)].reset_index()\n",
    "    \n",
    "    def remove_stopwords(self,columns):\n",
    "        stop = stopwords.words('english')\n",
    "        for col in columns:\n",
    "            self.df_full[col] = self.df_full[col].astype(str).apply(lambda x: ' '.join([word for word in x.split() if word not in (stop)]))\n",
    "\n",
    "    def to_tfidf(self,columns):\n",
    "        for col in columns:\n",
    "            tfidfv = TfidfVectorizer()\n",
    "            self.df_full[col + '_tfidf'] = list(tfidfv.fit_transform(self.df_full[col]).toarray())\n",
    "            \n",
    "    def remove_punc(self, columns):\n",
    "        for col in columns:\n",
    "            self.df_full[col] = self.df_full[col].str.replace('[^a-zA-Z\\s]+','')\n",
    "        \n",
    "def display_wordcloud(text):\n",
    "    wordcloud = WordCloud(max_font_size=50, max_words=100, background_color='white').generate(text)\n",
    "    plt.figure()\n",
    "    plt.imshow(wordcloud, interpolation='bilinear')\n",
    "    plt.axis(\"off\")\n",
    "    plt.show()\n",
    "\n"
   ]
  },
  {
   "cell_type": "code",
   "execution_count": 36,
   "metadata": {},
   "outputs": [],
   "source": [
    "def pca_apply(df, columns, n_comp):\n",
    "    new_df = df.copy()\n",
    "    for col in columns:\n",
    "        pca = PCA(n_components=n_comp)\n",
    "        new_df[col+'_pca'] = list(pca.fit_transform(np.stack(df[col].to_numpy())))\n",
    "    return new_df\n",
    "\n",
    "def apply_scaler(df, columns):\n",
    "    new_df = df.copy()\n",
    "    for col in columns:\n",
    "        scaler = StandardScaler()\n",
    "        new_df[col + '_scaled'] = list(scaler.fit_transform(np.stack(df[col].to_numpy())))\n",
    "    return new_df\n",
    "\n",
    "def cluster(df, columns, clust_nums):\n",
    "    new_df = df.copy()\n",
    "    for col in columns:\n",
    "        kmeans = KMeans(n_clusters = clust_nums)\n",
    "        new_df[col + \"_clusterID\"] = list(kmeans.fit_predict(np.stack(df[col].to_numpy())))\n",
    "    return new_df\n"
   ]
  },
  {
   "cell_type": "code",
   "execution_count": null,
   "metadata": {},
   "outputs": [],
   "source": []
  },
  {
   "cell_type": "code",
   "execution_count": 6,
   "metadata": {},
   "outputs": [
    {
     "name": "stdout",
     "output_type": "stream",
     "text": [
      "(3851, 8)\n",
      "(3851, 9)\n"
     ]
    }
   ],
   "source": [
    "prepr = Preprocesser()"
   ]
  },
  {
   "cell_type": "code",
   "execution_count": 7,
   "metadata": {},
   "outputs": [],
   "source": [
    "prepr.remove_punc(['body_text','abstract'])"
   ]
  },
  {
   "cell_type": "code",
   "execution_count": 8,
   "metadata": {},
   "outputs": [],
   "source": [
    "prepr.remove_stopwords(['body_text', 'abstract'])"
   ]
  },
  {
   "cell_type": "code",
   "execution_count": 9,
   "metadata": {},
   "outputs": [],
   "source": [
    "prepr.to_tfidf(['body_text', 'abstract'])"
   ]
  },
  {
   "cell_type": "code",
   "execution_count": null,
   "metadata": {},
   "outputs": [],
   "source": []
  },
  {
   "cell_type": "code",
   "execution_count": 10,
   "metadata": {},
   "outputs": [],
   "source": [
    "pca_df = pca_apply(prepr.df_full, ['abstract_tfidf','body_text_tfidf'], 50)"
   ]
  },
  {
   "cell_type": "code",
   "execution_count": 11,
   "metadata": {},
   "outputs": [],
   "source": [
    "scaled_df = apply_scaler(pca_df,['abstract_tfidf_pca','body_text_tfidf_pca'])"
   ]
  },
  {
   "cell_type": "code",
   "execution_count": 37,
   "metadata": {},
   "outputs": [],
   "source": [
    "clustered_df = cluster(scaled_df, ['abstract_tfidf_pca_scaled', 'body_text_tfidf_pca_scaled'], 5)"
   ]
  },
  {
   "cell_type": "code",
   "execution_count": 38,
   "metadata": {},
   "outputs": [
    {
     "data": {
      "text/plain": [
       "1    3464\n",
       "0    306 \n",
       "4    30  \n",
       "3    27  \n",
       "2    24  \n",
       "Name: body_text_tfidf_pca_scaled_clusterID, dtype: int64"
      ]
     },
     "execution_count": 38,
     "metadata": {},
     "output_type": "execute_result"
    }
   ],
   "source": [
    "clustered_df.body_text_tfidf_pca_scaled_clusterID.value_counts()"
   ]
  },
  {
   "cell_type": "code",
   "execution_count": 41,
   "metadata": {},
   "outputs": [
    {
     "data": {
      "text/html": [
       "<div>\n",
       "<style scoped>\n",
       "    .dataframe tbody tr th:only-of-type {\n",
       "        vertical-align: middle;\n",
       "    }\n",
       "\n",
       "    .dataframe tbody tr th {\n",
       "        vertical-align: top;\n",
       "    }\n",
       "\n",
       "    .dataframe thead th {\n",
       "        text-align: right;\n",
       "    }\n",
       "</style>\n",
       "<table border=\"1\" class=\"dataframe\">\n",
       "  <thead>\n",
       "    <tr style=\"text-align: right;\">\n",
       "      <th></th>\n",
       "      <th>title</th>\n",
       "    </tr>\n",
       "  </thead>\n",
       "  <tbody>\n",
       "    <tr>\n",
       "      <th>744</th>\n",
       "      <td>clinical and molecular investigation of a canine distemper outbreak and vector-borne infections in a group of rescue dogs imported from hungary to switzerland</td>\n",
       "    </tr>\n",
       "    <tr>\n",
       "      <th>780</th>\n",
       "      <td>a monoclonal antibody-based copro-elisa kit for canine echinococcosis to support the paho effort for hydatid disease control in south america</td>\n",
       "    </tr>\n",
       "    <tr>\n",
       "      <th>862</th>\n",
       "      <td>the serological and virological investigation of canine adenovirus infection on the dogs</td>\n",
       "    </tr>\n",
       "    <tr>\n",
       "      <th>927</th>\n",
       "      <td>performance of lbsap vaccine after intradermal challenge with l. infantum and saliva of lu. longipalpis: immunogenicity and parasitological evaluation</td>\n",
       "    </tr>\n",
       "    <tr>\n",
       "      <th>1021</th>\n",
       "      <td>experimental infection of dogs with a feline endogenous retrovirus rd-114</td>\n",
       "    </tr>\n",
       "    <tr>\n",
       "      <th>1049</th>\n",
       "      <td>demographics and economic burden of un-owned cats and dogs in the uk: results of a 2010 census stavisky et al. demographics and economic burden of un-owned cats and dogs in the uk: results of a 2010 census</td>\n",
       "    </tr>\n",
       "    <tr>\n",
       "      <th>1674</th>\n",
       "      <td>detection and genetic characterization of canine astroviruses in pet dogs in guangxi, china</td>\n",
       "    </tr>\n",
       "    <tr>\n",
       "      <th>1811</th>\n",
       "      <td>genotyping and pathobiologic characterization of canine parvovirus circulating in nanjing, china</td>\n",
       "    </tr>\n",
       "    <tr>\n",
       "      <th>2637</th>\n",
       "      <td>preliminary studies on isolates of clostridium difficile from dogs and exotic pets</td>\n",
       "    </tr>\n",
       "    <tr>\n",
       "      <th>2836</th>\n",
       "      <td>the fecal microbiota and unconjugated fecal bile acids in dogs with diabetes mellitus escg-o-2 impact of antibiotic administration on fecal bacterial groups potentially associated with dysbiosis in kittens escg-o-3 fecal microbial metabolism is altered in dogs with chronic enteropathy escg-o-4 the pug breed demonstrates a worse response to treatment of protein-losing enteropathy than other breeds of dog escg-o-6 dogs with acute haemorrhagic diarrhoea syndrome not receiving antibiotics have a good prognosis despite initial high ahds-score and systemic inflammation escg-o-7 faecal bile acid profiles in dogs with acute haemorrhagic diarrhoea syndrome over time and compared to healthy dogs escg-o-8 long-term consequences of acute hemorrhagic diarrhea syndrome in dogs esvc-o-1 acute effect of oral pimobendan on left atrial function and mitral valve regurgitation severity in dogs with stage b2 myxomatous mitral valve disease -a pilot study esvc-o-2 retrospective evaluation of the safety and tolerability of pimobendan in cats with obstructive versus nonobstructive hypertrophic cardiomyopathy</td>\n",
       "    </tr>\n",
       "    <tr>\n",
       "      <th>2917</th>\n",
       "      <td>research communications of the 24th ecvim-ca congress research communications of the 24th ecvim-ca congress rheingoldhalle in mainz</td>\n",
       "    </tr>\n",
       "    <tr>\n",
       "      <th>2948</th>\n",
       "      <td>abstracts c01 pharmacodynamics of entresto® (sacubitril/valsartan) versus placebo in dogs with preclinical myxomatous mitral valve disease c02 trimethylamine-n-oxide and its precursors in dogs with degenerative mitral valve disease comparison between the effects of torsemide and furosemide on the renin-angiotensin-aldosterone system of normal dogs c04 transvenous echocardiography in conscious sedated horses c06 complications and outcomes of multi-institution transvenous pacemaker implantation</td>\n",
       "    </tr>\n",
       "    <tr>\n",
       "      <th>3078</th>\n",
       "      <td></td>\n",
       "    </tr>\n",
       "    <tr>\n",
       "      <th>3099</th>\n",
       "      <td>update on canine and feline blood donor screening for blood-borne pathogens</td>\n",
       "    </tr>\n",
       "    <tr>\n",
       "      <th>3108</th>\n",
       "      <td></td>\n",
       "    </tr>\n",
       "    <tr>\n",
       "      <th>3113</th>\n",
       "      <td>small animal -cardiology **</td>\n",
       "    </tr>\n",
       "    <tr>\n",
       "      <th>3161</th>\n",
       "      <td>detection of selected viral pathogens in dogs with canine infectious respiratory disease in austria</td>\n",
       "    </tr>\n",
       "    <tr>\n",
       "      <th>3170</th>\n",
       "      <td>index of abstracts oral presentations -thursday</td>\n",
       "    </tr>\n",
       "    <tr>\n",
       "      <th>3208</th>\n",
       "      <td>research communications of the 25th ecvim-ca congress</td>\n",
       "    </tr>\n",
       "    <tr>\n",
       "      <th>3302</th>\n",
       "      <td>characterization of canine coronavirus spread among domestic dogs in vietnam</td>\n",
       "    </tr>\n",
       "    <tr>\n",
       "      <th>3312</th>\n",
       "      <td>prevalence of canine coronavirus (ccov) in dog in japan: detection of ccov rna and retrospective serological analysis</td>\n",
       "    </tr>\n",
       "    <tr>\n",
       "      <th>3374</th>\n",
       "      <td>evidence of transmission and risk factors for influenza a virus in household dogs and their owners</td>\n",
       "    </tr>\n",
       "    <tr>\n",
       "      <th>3715</th>\n",
       "      <td></td>\n",
       "    </tr>\n",
       "    <tr>\n",
       "      <th>3821</th>\n",
       "      <td>inter-and intraspecies transmission of canine influenza virus (h3n2) in dogs, cats, and ferrets</td>\n",
       "    </tr>\n",
       "  </tbody>\n",
       "</table>\n",
       "</div>"
      ],
      "text/plain": [
       "                                                                                                                                                                                                                                                                                                                                                                                                                                                                                                                                                                                                                                                                                                                                                                                                                                                                                                                                                                                                                                                                                                                                              title\n",
       "744   clinical and molecular investigation of a canine distemper outbreak and vector-borne infections in a group of rescue dogs imported from hungary to switzerland                                                                                                                                                                                                                                                                                                                                                                                                                                                                                                                                                                                                                                                                                                                                                                                                                                                                                                                                                                               \n",
       "780   a monoclonal antibody-based copro-elisa kit for canine echinococcosis to support the paho effort for hydatid disease control in south america                                                                                                                                                                                                                                                                                                                                                                                                                                                                                                                                                                                                                                                                                                                                                                                                                                                                                                                                                                                                \n",
       "862   the serological and virological investigation of canine adenovirus infection on the dogs                                                                                                                                                                                                                                                                                                                                                                                                                                                                                                                                                                                                                                                                                                                                                                                                                                                                                                                                                                                                                                                     \n",
       "927   performance of lbsap vaccine after intradermal challenge with l. infantum and saliva of lu. longipalpis: immunogenicity and parasitological evaluation                                                                                                                                                                                                                                                                                                                                                                                                                                                                                                                                                                                                                                                                                                                                                                                                                                                                                                                                                                                       \n",
       "1021  experimental infection of dogs with a feline endogenous retrovirus rd-114                                                                                                                                                                                                                                                                                                                                                                                                                                                                                                                                                                                                                                                                                                                                                                                                                                                                                                                                                                                                                                                                    \n",
       "1049  demographics and economic burden of un-owned cats and dogs in the uk: results of a 2010 census stavisky et al. demographics and economic burden of un-owned cats and dogs in the uk: results of a 2010 census                                                                                                                                                                                                                                                                                                                                                                                                                                                                                                                                                                                                                                                                                                                                                                                                                                                                                                                                \n",
       "1674  detection and genetic characterization of canine astroviruses in pet dogs in guangxi, china                                                                                                                                                                                                                                                                                                                                                                                                                                                                                                                                                                                                                                                                                                                                                                                                                                                                                                                                                                                                                                                  \n",
       "1811  genotyping and pathobiologic characterization of canine parvovirus circulating in nanjing, china                                                                                                                                                                                                                                                                                                                                                                                                                                                                                                                                                                                                                                                                                                                                                                                                                                                                                                                                                                                                                                             \n",
       "2637  preliminary studies on isolates of clostridium difficile from dogs and exotic pets                                                                                                                                                                                                                                                                                                                                                                                                                                                                                                                                                                                                                                                                                                                                                                                                                                                                                                                                                                                                                                                           \n",
       "2836  the fecal microbiota and unconjugated fecal bile acids in dogs with diabetes mellitus escg-o-2 impact of antibiotic administration on fecal bacterial groups potentially associated with dysbiosis in kittens escg-o-3 fecal microbial metabolism is altered in dogs with chronic enteropathy escg-o-4 the pug breed demonstrates a worse response to treatment of protein-losing enteropathy than other breeds of dog escg-o-6 dogs with acute haemorrhagic diarrhoea syndrome not receiving antibiotics have a good prognosis despite initial high ahds-score and systemic inflammation escg-o-7 faecal bile acid profiles in dogs with acute haemorrhagic diarrhoea syndrome over time and compared to healthy dogs escg-o-8 long-term consequences of acute hemorrhagic diarrhea syndrome in dogs esvc-o-1 acute effect of oral pimobendan on left atrial function and mitral valve regurgitation severity in dogs with stage b2 myxomatous mitral valve disease -a pilot study esvc-o-2 retrospective evaluation of the safety and tolerability of pimobendan in cats with obstructive versus nonobstructive hypertrophic cardiomyopathy\n",
       "2917  research communications of the 24th ecvim-ca congress research communications of the 24th ecvim-ca congress rheingoldhalle in mainz                                                                                                                                                                                                                                                                                                                                                                                                                                                                                                                                                                                                                                                                                                                                                                                                                                                                                                                                                                                                          \n",
       "2948  abstracts c01 pharmacodynamics of entresto® (sacubitril/valsartan) versus placebo in dogs with preclinical myxomatous mitral valve disease c02 trimethylamine-n-oxide and its precursors in dogs with degenerative mitral valve disease comparison between the effects of torsemide and furosemide on the renin-angiotensin-aldosterone system of normal dogs c04 transvenous echocardiography in conscious sedated horses c06 complications and outcomes of multi-institution transvenous pacemaker implantation                                                                                                                                                                                                                                                                                                                                                                                                                                                                                                                                                                                                                            \n",
       "3078                                                                                                                                                                                                                                                                                                                                                                                                                                                                                                                                                                                                                                                                                                                                                                                                                                                                                                                                                                                                                                                                                                                                               \n",
       "3099  update on canine and feline blood donor screening for blood-borne pathogens                                                                                                                                                                                                                                                                                                                                                                                                                                                                                                                                                                                                                                                                                                                                                                                                                                                                                                                                                                                                                                                                  \n",
       "3108                                                                                                                                                                                                                                                                                                                                                                                                                                                                                                                                                                                                                                                                                                                                                                                                                                                                                                                                                                                                                                                                                                                                               \n",
       "3113  small animal -cardiology **                                                                                                                                                                                                                                                                                                                                                                                                                                                                                                                                                                                                                                                                                                                                                                                                                                                                                                                                                                                                                                                                                                                  \n",
       "3161  detection of selected viral pathogens in dogs with canine infectious respiratory disease in austria                                                                                                                                                                                                                                                                                                                                                                                                                                                                                                                                                                                                                                                                                                                                                                                                                                                                                                                                                                                                                                          \n",
       "3170  index of abstracts oral presentations -thursday                                                                                                                                                                                                                                                                                                                                                                                                                                                                                                                                                                                                                                                                                                                                                                                                                                                                                                                                                                                                                                                                                              \n",
       "3208  research communications of the 25th ecvim-ca congress                                                                                                                                                                                                                                                                                                                                                                                                                                                                                                                                                                                                                                                                                                                                                                                                                                                                                                                                                                                                                                                                                        \n",
       "3302  characterization of canine coronavirus spread among domestic dogs in vietnam                                                                                                                                                                                                                                                                                                                                                                                                                                                                                                                                                                                                                                                                                                                                                                                                                                                                                                                                                                                                                                                                 \n",
       "3312  prevalence of canine coronavirus (ccov) in dog in japan: detection of ccov rna and retrospective serological analysis                                                                                                                                                                                                                                                                                                                                                                                                                                                                                                                                                                                                                                                                                                                                                                                                                                                                                                                                                                                                                        \n",
       "3374  evidence of transmission and risk factors for influenza a virus in household dogs and their owners                                                                                                                                                                                                                                                                                                                                                                                                                                                                                                                                                                                                                                                                                                                                                                                                                                                                                                                                                                                                                                           \n",
       "3715                                                                                                                                                                                                                                                                                                                                                                                                                                                                                                                                                                                                                                                                                                                                                                                                                                                                                                                                                                                                                                                                                                                                               \n",
       "3821  inter-and intraspecies transmission of canine influenza virus (h3n2) in dogs, cats, and ferrets                                                                                                                                                                                                                                                                                                                                                                                                                                                                                                                                                                                                                                                                                                                                                                                                                                                                                                                                                                                                                                              "
      ]
     },
     "execution_count": 41,
     "metadata": {},
     "output_type": "execute_result"
    }
   ],
   "source": [
    "clustered_df[clustered_df.body_text_tfidf_pca_scaled_clusterID == 2][['title']]"
   ]
  },
  {
   "cell_type": "code",
   "execution_count": null,
   "metadata": {},
   "outputs": [],
   "source": []
  },
  {
   "cell_type": "code",
   "execution_count": null,
   "metadata": {},
   "outputs": [],
   "source": []
  }
 ],
 "metadata": {
  "kernelspec": {
   "display_name": "Python 3",
   "language": "python",
   "name": "python3"
  },
  "language_info": {
   "codemirror_mode": {
    "name": "ipython",
    "version": 3
   },
   "file_extension": ".py",
   "mimetype": "text/x-python",
   "name": "python",
   "nbconvert_exporter": "python",
   "pygments_lexer": "ipython3",
   "version": "3.6.8"
  }
 },
 "nbformat": 4,
 "nbformat_minor": 2
}
