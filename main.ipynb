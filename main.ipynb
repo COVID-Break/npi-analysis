{
 "cells": [
  {
   "cell_type": "code",
   "execution_count": 1,
   "metadata": {},
   "outputs": [],
   "source": [
    "%load_ext dotenv\n",
    "%dotenv"
   ]
  },
  {
   "cell_type": "code",
   "execution_count": 6,
   "metadata": {},
   "outputs": [],
   "source": [
    "# get raw data from GCP bucket\n",
    "import pandas as pd\n",
    "import os\n",
    "\n",
    "# pull in and explore meta data\n",
    "KEY = 'all_sources_metadata_2020-03-13.csv'\n",
    "df = pd.read_csv('gs://{}/{}'.format(os.environ['BUCKET_NAME'], KEY), encoding='utf-8', low_memory=False)"
   ]
  },
  {
   "cell_type": "code",
   "execution_count": 56,
   "metadata": {},
   "outputs": [
    {
     "data": {
      "text/html": [
       "<div>\n",
       "<style scoped>\n",
       "    .dataframe tbody tr th:only-of-type {\n",
       "        vertical-align: middle;\n",
       "    }\n",
       "\n",
       "    .dataframe tbody tr th {\n",
       "        vertical-align: top;\n",
       "    }\n",
       "\n",
       "    .dataframe thead th {\n",
       "        text-align: right;\n",
       "    }\n",
       "</style>\n",
       "<table border=\"1\" class=\"dataframe\">\n",
       "  <thead>\n",
       "    <tr style=\"text-align: right;\">\n",
       "      <th></th>\n",
       "      <th>sha</th>\n",
       "      <th>source_x</th>\n",
       "      <th>title</th>\n",
       "      <th>doi</th>\n",
       "      <th>pmcid</th>\n",
       "      <th>pubmed_id</th>\n",
       "      <th>license</th>\n",
       "      <th>abstract</th>\n",
       "      <th>publish_time</th>\n",
       "      <th>authors</th>\n",
       "      <th>journal</th>\n",
       "      <th>Microsoft Academic Paper ID</th>\n",
       "      <th>WHO #Covidence</th>\n",
       "      <th>has_full_text</th>\n",
       "    </tr>\n",
       "  </thead>\n",
       "  <tbody>\n",
       "    <tr>\n",
       "      <td>0</td>\n",
       "      <td>c630ebcdf30652f0422c3ec12a00b50241dc9bd9</td>\n",
       "      <td>CZI</td>\n",
       "      <td>angiotensinconverting enzyme  ace as a sarscov...</td>\n",
       "      <td>10.1007/s00134-020-05985-9</td>\n",
       "      <td>NaN</td>\n",
       "      <td>32125455.0</td>\n",
       "      <td>cc-by-nc</td>\n",
       "      <td>NaN</td>\n",
       "      <td>2020</td>\n",
       "      <td>zhang, haibo penninger, josef m li, yimin zhon...</td>\n",
       "      <td>Intensive Care Med</td>\n",
       "      <td>2.002765e+09</td>\n",
       "      <td>#3252</td>\n",
       "      <td>True</td>\n",
       "    </tr>\n",
       "    <tr>\n",
       "      <td>1</td>\n",
       "      <td>53eccda7977a31e3d0f565c884da036b1e85438e</td>\n",
       "      <td>CZI</td>\n",
       "      <td>comparative genetic analysis of the novel coro...</td>\n",
       "      <td>10.1038/s41421-020-0147-1</td>\n",
       "      <td>NaN</td>\n",
       "      <td>NaN</td>\n",
       "      <td>cc-by</td>\n",
       "      <td>NaN</td>\n",
       "      <td>2020</td>\n",
       "      <td>cao, yanan li, lin feng, zhimin wan, shengqing...</td>\n",
       "      <td>Cell Discovery</td>\n",
       "      <td>3.003431e+09</td>\n",
       "      <td>#1861</td>\n",
       "      <td>True</td>\n",
       "    </tr>\n",
       "  </tbody>\n",
       "</table>\n",
       "</div>"
      ],
      "text/plain": [
       "                                        sha source_x  \\\n",
       "0  c630ebcdf30652f0422c3ec12a00b50241dc9bd9      CZI   \n",
       "1  53eccda7977a31e3d0f565c884da036b1e85438e      CZI   \n",
       "\n",
       "                                               title  \\\n",
       "0  angiotensinconverting enzyme  ace as a sarscov...   \n",
       "1  comparative genetic analysis of the novel coro...   \n",
       "\n",
       "                          doi pmcid   pubmed_id   license abstract  \\\n",
       "0  10.1007/s00134-020-05985-9   NaN  32125455.0  cc-by-nc      NaN   \n",
       "1   10.1038/s41421-020-0147-1   NaN         NaN     cc-by      NaN   \n",
       "\n",
       "  publish_time                                            authors  \\\n",
       "0         2020  zhang, haibo penninger, josef m li, yimin zhon...   \n",
       "1         2020  cao, yanan li, lin feng, zhimin wan, shengqing...   \n",
       "\n",
       "              journal  Microsoft Academic Paper ID WHO #Covidence  \\\n",
       "0  Intensive Care Med                 2.002765e+09          #3252   \n",
       "1      Cell Discovery                 3.003431e+09          #1861   \n",
       "\n",
       "  has_full_text  \n",
       "0          True  \n",
       "1          True  "
      ]
     },
     "execution_count": 56,
     "metadata": {},
     "output_type": "execute_result"
    }
   ],
   "source": [
    "df.head(2)"
   ]
  },
  {
   "cell_type": "code",
   "execution_count": 57,
   "metadata": {},
   "outputs": [
    {
     "data": {
      "text/plain": [
       "PMC        27337\n",
       "CZI         1236\n",
       "biorxiv      566\n",
       "medrxiv      361\n",
       "Name: source_x, dtype: int64"
      ]
     },
     "execution_count": 57,
     "metadata": {},
     "output_type": "execute_result"
    }
   ],
   "source": [
    "df.source_x.value_counts(dropna=False)"
   ]
  },
  {
   "cell_type": "code",
   "execution_count": 58,
   "metadata": {},
   "outputs": [
    {
     "data": {
      "text/html": [
       "<div>\n",
       "<style scoped>\n",
       "    .dataframe tbody tr th:only-of-type {\n",
       "        vertical-align: middle;\n",
       "    }\n",
       "\n",
       "    .dataframe tbody tr th {\n",
       "        vertical-align: top;\n",
       "    }\n",
       "\n",
       "    .dataframe thead th {\n",
       "        text-align: right;\n",
       "    }\n",
       "</style>\n",
       "<table border=\"1\" class=\"dataframe\">\n",
       "  <thead>\n",
       "    <tr style=\"text-align: right;\">\n",
       "      <th></th>\n",
       "      <th>sha</th>\n",
       "      <th>source_x</th>\n",
       "      <th>title</th>\n",
       "      <th>doi</th>\n",
       "      <th>pmcid</th>\n",
       "      <th>pubmed_id</th>\n",
       "      <th>license</th>\n",
       "      <th>abstract</th>\n",
       "      <th>publish_time</th>\n",
       "      <th>authors</th>\n",
       "      <th>journal</th>\n",
       "      <th>Microsoft Academic Paper ID</th>\n",
       "      <th>WHO #Covidence</th>\n",
       "      <th>has_full_text</th>\n",
       "    </tr>\n",
       "  </thead>\n",
       "  <tbody>\n",
       "    <tr>\n",
       "      <td>0</td>\n",
       "      <td>c630ebcdf30652f0422c3ec12a00b50241dc9bd9</td>\n",
       "      <td>CZI</td>\n",
       "      <td>angiotensinconverting enzyme  ace as a sarscov...</td>\n",
       "      <td>10.1007/s00134-020-05985-9</td>\n",
       "      <td>NaN</td>\n",
       "      <td>32125455.0</td>\n",
       "      <td>cc-by-nc</td>\n",
       "      <td>NaN</td>\n",
       "      <td>2020</td>\n",
       "      <td>zhang, haibo penninger, josef m li, yimin zhon...</td>\n",
       "      <td>Intensive Care Med</td>\n",
       "      <td>2.002765e+09</td>\n",
       "      <td>#3252</td>\n",
       "      <td>True</td>\n",
       "    </tr>\n",
       "    <tr>\n",
       "      <td>1</td>\n",
       "      <td>53eccda7977a31e3d0f565c884da036b1e85438e</td>\n",
       "      <td>CZI</td>\n",
       "      <td>comparative genetic analysis of the novel coro...</td>\n",
       "      <td>10.1038/s41421-020-0147-1</td>\n",
       "      <td>NaN</td>\n",
       "      <td>NaN</td>\n",
       "      <td>cc-by</td>\n",
       "      <td>NaN</td>\n",
       "      <td>2020</td>\n",
       "      <td>cao, yanan li, lin feng, zhimin wan, shengqing...</td>\n",
       "      <td>Cell Discovery</td>\n",
       "      <td>3.003431e+09</td>\n",
       "      <td>#1861</td>\n",
       "      <td>True</td>\n",
       "    </tr>\n",
       "  </tbody>\n",
       "</table>\n",
       "</div>"
      ],
      "text/plain": [
       "                                        sha source_x  \\\n",
       "0  c630ebcdf30652f0422c3ec12a00b50241dc9bd9      CZI   \n",
       "1  53eccda7977a31e3d0f565c884da036b1e85438e      CZI   \n",
       "\n",
       "                                               title  \\\n",
       "0  angiotensinconverting enzyme  ace as a sarscov...   \n",
       "1  comparative genetic analysis of the novel coro...   \n",
       "\n",
       "                          doi pmcid   pubmed_id   license abstract  \\\n",
       "0  10.1007/s00134-020-05985-9   NaN  32125455.0  cc-by-nc      NaN   \n",
       "1   10.1038/s41421-020-0147-1   NaN         NaN     cc-by      NaN   \n",
       "\n",
       "  publish_time                                            authors  \\\n",
       "0         2020  zhang, haibo penninger, josef m li, yimin zhon...   \n",
       "1         2020  cao, yanan li, lin feng, zhimin wan, shengqing...   \n",
       "\n",
       "              journal  Microsoft Academic Paper ID WHO #Covidence  \\\n",
       "0  Intensive Care Med                 2.002765e+09          #3252   \n",
       "1      Cell Discovery                 3.003431e+09          #1861   \n",
       "\n",
       "  has_full_text  \n",
       "0          True  \n",
       "1          True  "
      ]
     },
     "execution_count": 58,
     "metadata": {},
     "output_type": "execute_result"
    }
   ],
   "source": [
    "# clean numbers and special characters\n",
    "regex_arr = ['\\d','\\t','\\r','\\)','\\(','\\/', ':', ';', '&', '#', '-', '\\.']\n",
    "def clean_numbers_and_special_characters (df, col):\n",
    "    df[col] = df[col].replace(regex=regex_arr, value='')\n",
    "    df[col] = df[col].str.rstrip()\n",
    "    df[col] = df[col].str.lower()\n",
    "    return df    \n",
    "\n",
    "df = clean_numbers_and_special_characters(df, 'title')\n",
    "df = clean_numbers_and_special_characters(df, 'abstract')\n",
    "df = clean_numbers_and_special_characters(df, 'authors')\n",
    "df.head(2)"
   ]
  },
  {
   "cell_type": "code",
   "execution_count": null,
   "metadata": {},
   "outputs": [],
   "source": [
    "\n"
   ]
  },
  {
   "cell_type": "code",
   "execution_count": null,
   "metadata": {},
   "outputs": [],
   "source": []
  }
 ],
 "metadata": {
  "kernelspec": {
   "display_name": "Python 3",
   "language": "python",
   "name": "python3"
  },
  "language_info": {
   "codemirror_mode": {
    "name": "ipython",
    "version": 3
   },
   "file_extension": ".py",
   "mimetype": "text/x-python",
   "name": "python",
   "nbconvert_exporter": "python",
   "pygments_lexer": "ipython3",
   "version": "3.7.3"
  }
 },
 "nbformat": 4,
 "nbformat_minor": 2
}
